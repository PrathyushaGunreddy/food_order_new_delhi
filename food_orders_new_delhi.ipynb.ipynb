{
 "cells": [
  {
   "cell_type": "code",
   "execution_count": null,
   "id": "92c03c05-d84b-44ff-8a4a-33842ab8bde4",
   "metadata": {},
   "outputs": [],
   "source": [
    "import pandas as pd\n",
    "\n",
    "food_orders = pd.read_csv(\"food_orders_new_delhi.csv\")\n",
    "print(food_orders.head())"
   ]
  },
  {
   "cell_type": "code",
   "execution_count": null,
   "id": "71a50499-e7c0-490a-95a7-2d9ef9e827b0",
   "metadata": {},
   "outputs": [],
   "source": [
    "print(food_orders.info())"
   ]
  },
  {
   "cell_type": "code",
   "execution_count": null,
   "id": "42848010-2f43-49de-8dee-3a7b9663a9ad",
   "metadata": {},
   "outputs": [],
   "source": [
    "from datetime import datetime\n",
    "\n",
    "# convert date and time columns to datetime\n",
    "food_orders['Order Date and Time'] = pd.to_datetime(food_orders['Order Date and Time'])\n",
    "food_orders['Delivery Date and Time'] = pd.to_datetime(food_orders['Delivery Date and Time'])\n",
    "\n",
    "# first, let's create a function to extract numeric values from the 'Discounts and Offers' string\n",
    "def extract_discount(discount_str):\n",
    "    if 'off' in discount_str:\n",
    "        # Fixed amount off\n",
    "        return float(discount_str.split(' ')[0])\n",
    "    elif '%' in discount_str:\n",
    "        # Percentage off\n",
    "        return float(discount_str.split('%')[0])\n",
    "    else:\n",
    "        # No discount\n",
    "        return 0.0\n",
    "\n",
    "# apply the function to create a new 'Discount Value' column\n",
    "food_orders['Discount Percentage'] = food_orders['Discounts and Offers'].apply(lambda x: extract_discount(x))\n",
    "\n",
    "# for percentage discounts, calculate the discount amount based on the order value\n",
    "food_orders['Discount Amount'] = food_orders.apply(lambda x: (x['Order Value'] * x['Discount Percentage'] / 100)\n",
    "                                                   if x['Discount Percentage'] > 1\n",
    "                                                   else x['Discount Percentage'], axis=1)\n",
    "\n",
    "# adjust 'Discount Amount' for fixed discounts directly specified in the 'Discounts and Offers' column\n",
    "food_orders['Discount Amount'] = food_orders.apply(lambda x: x['Discount Amount'] if x['Discount Percentage'] <= 1\n",
    "                                                   else x['Order Value'] * x['Discount Percentage'] / 100, axis=1)\n",
    "\n",
    "print(food_orders[['Order Value', 'Discounts and Offers', 'Discount Percentage', 'Discount Amount']].head(), food_orders.dtypes)"
   ]
  },
  {
   "cell_type": "code",
   "execution_count": null,
   "id": "27c96847-ca5f-496e-8362-b2f660de3506",
   "metadata": {},
   "outputs": [],
   "source": [
    "# calculate total costs and revenue per order\n",
    "food_orders['Total Costs'] = food_orders['Delivery Fee'] + food_orders['Payment Processing Fee'] + food_orders['Discount Amount']\n",
    "food_orders['Revenue'] = food_orders['Commission Fee']\n",
    "food_orders['Profit'] = food_orders['Revenue'] - food_orders['Total Costs']\n",
    "\n",
    "# aggregate data to get overall metrics\n",
    "total_orders = food_orders.shape[0]\n",
    "total_revenue = food_orders['Revenue'].sum()\n",
    "total_costs = food_orders['Total Costs'].sum()\n",
    "total_profit = food_orders['Profit'].sum()\n",
    "\n",
    "overall_metrics = {\n",
    "    \"Total Orders\": total_orders,\n",
    "    \"Total Revenue\": total_revenue,\n",
    "    \"Total Costs\": total_costs,\n",
    "    \"Total Profit\": total_profit\n",
    "}\n",
    "\n",
    "print(overall_metrics)"
   ]
  },
  {
   "cell_type": "code",
   "execution_count": null,
   "id": "b1cff7e9-95d5-4777-b460-94d2ad549297",
   "metadata": {},
   "outputs": [],
   "source": [
    "import matplotlib.pyplot as plt\n",
    "\n",
    "# histogram of profits per order\n",
    "plt.figure(figsize=(10, 6))\n",
    "plt.hist(food_orders['Profit'], bins=50, color='skyblue', edgecolor='black')\n",
    "plt.title('Profit Distribution per Order in Food Delivery')\n",
    "plt.xlabel('Profit')\n",
    "plt.ylabel('Number of Orders')\n",
    "plt.axvline(food_orders['Profit'].mean(), color='red', linestyle='dashed', linewidth=1)\n",
    "plt.show()"
   ]
  },
  {
   "cell_type": "code",
   "execution_count": null,
   "id": "471984b8-4c99-413e-ba25-8ba9676f28ea",
   "metadata": {},
   "outputs": [],
   "source": [
    "# pie chart for the proportion of total costs\n",
    "costs_breakdown = food_orders[['Delivery Fee', 'Payment Processing Fee', 'Discount Amount']].sum()\n",
    "plt.figure(figsize=(7, 7))\n",
    "plt.pie(costs_breakdown, labels=costs_breakdown.index, autopct='%1.1f%%', startangle=140, colors=['tomato', 'gold', 'lightblue'])\n",
    "plt.title('Proportion of Total Costs in Food Delivery')\n",
    "plt.show()"
   ]
  },
  {
   "cell_type": "code",
   "execution_count": null,
   "id": "512c00b9-7b22-47ea-98b8-170a953ba66f",
   "metadata": {},
   "outputs": [],
   "source": [
    "# bar chart for total revenue, costs, and profit\n",
    "totals = ['Total Revenue', 'Total Costs', 'Total Profit']\n",
    "values = [total_revenue, total_costs, total_profit]\n",
    "\n",
    "plt.figure(figsize=(8, 6))\n",
    "plt.bar(totals, values, color=['green', 'red', 'blue'])\n",
    "plt.title('Total Revenue, Costs, and Profit')\n",
    "plt.ylabel('Amount (INR)')\n",
    "plt.show()"
   ]
  }
 ],
 "metadata": {
  "kernelspec": {
   "display_name": "Python 3 (ipykernel)",
   "language": "python",
   "name": "python3"
  },
  "language_info": {
   "codemirror_mode": {
    "name": "ipython",
    "version": 3
   },
   "file_extension": ".py",
   "mimetype": "text/x-python",
   "name": "python",
   "nbconvert_exporter": "python",
   "pygments_lexer": "ipython3",
   "version": "3.11.7"
  }
 },
 "nbformat": 4,
 "nbformat_minor": 5
}
